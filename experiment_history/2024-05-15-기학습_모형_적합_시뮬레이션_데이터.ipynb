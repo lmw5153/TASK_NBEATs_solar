{
 "cells": [
  {
   "cell_type": "markdown",
   "id": "717e53c5",
   "metadata": {},
   "source": [
    "# 기학습 모형 시뮬레이션 데이터 적합\n",
    "\n",
    "- 기학습 모형에 시뮬레이션 데이터를 적합하기 위해 정해진 변수 안에서 랜덤으로 시계열 데이터를 생성하고 전처리함"
   ]
  },
  {
   "cell_type": "code",
   "execution_count": 1,
   "id": "7ec49191",
   "metadata": {},
   "outputs": [],
   "source": [
    "import numpy as np\n",
    "import matplotlib.pyplot as plt\n",
    "import pandas as pd"
   ]
  },
  {
   "cell_type": "code",
   "execution_count": 386,
   "id": "a91b2c06",
   "metadata": {},
   "outputs": [],
   "source": [
    "########################################################################################################\n",
    "# window function\n",
    "# 각 TS 당 timestep 별로 시퀀스 생성\n",
    "def window(df, timestep):\n",
    "    for i in range(0, timestep):\n",
    "        df['shift_{}'.format(i)] = df.iloc[:,0].shift(i)\n",
    "        df['shift_{}'.format(i)] = df.iloc[:,0].shift(i)\n",
    "    window_df = df.dropna(axis=0) # 결측치 공간 제거\n",
    "    window_df = window_df.iloc[:,::-1] # 좌우 반전\n",
    "\n",
    "\n",
    "    feature= window_df.iloc[:,:-1].values\n",
    "    y_label= window_df.iloc[:,-1].values\n",
    "\n",
    "    return feature\n",
    "\n",
    "##########################################################################################################\n",
    "# 시뮬레이션 데이터 생성 함수\n",
    "def generate_cosine_series(t, period, amplitude, trend_slope, trend_intercept=0, noise_level=0.1):\n",
    "    series = amplitude * np.cos(2 * np.pi / period * t) + trend_slope * t + trend_intercept\n",
    "    series += noise_level * np.random.randn(len(t))\n",
    "    return series\n",
    "\n",
    "def generate_sine_series(t, period, amplitude, trend_slope, trend_intercept=0, noise_level=0.1):\n",
    "    series = amplitude * np.sin(2 * np.pi / period * t) + trend_slope * t + trend_intercept\n",
    "    series += noise_level * np.random.randn(len(t))\n",
    "    return series\n",
    "\n",
    "def random_parameters():\n",
    "    period = np.random.randint(1, 49)  # 1 to 48\n",
    "    amplitude = np.random.normal(0,0.5) #np.random.uniform(0, 1)  \n",
    "    trend_slope = np.random.normal(0,0.03) \n",
    "    noise_level = np.random.uniform(0, 1)  # 0 to 1\n",
    "    return period, amplitude, trend_slope, noise_level\n",
    "\n",
    "def generate_random_time_series(t):\n",
    "    period, amplitude, trend_slope, noise_level = random_parameters()\n",
    "    cosine_series = generate_cosine_series(t, period, amplitude, trend_slope, noise_level=noise_level)\n",
    "    sine_series = generate_sine_series(t, period, amplitude, trend_slope, noise_level=noise_level)\n",
    "    return np.array([cosine_series.round(3), sine_series.round(3)])"
   ]
  },
  {
   "cell_type": "markdown",
   "id": "1d0ea457",
   "metadata": {},
   "source": [
    "## 시계열 데이터 랜덤 생성\n",
    "- 주기 : 1~48\n",
    "- 사인 및 코사인 기울기 : 0~0.5\n",
    "- 추세 기울기 : 0~0.03\n",
    "- 잔차 레벨 : 0~1"
   ]
  },
  {
   "cell_type": "code",
   "execution_count": 444,
   "id": "db8bb827",
   "metadata": {},
   "outputs": [
    {
     "data": {
      "text/plain": [
       "((500, 109, 36), (500, 109, 36), (500, 1, 36), (500, 1, 36))"
      ]
     },
     "execution_count": 444,
     "metadata": {},
     "output_type": "execute_result"
    }
   ],
   "source": [
    "np.random.seed(101)\n",
    "t = np.arange(0,180,1)\n",
    "\n",
    "simul500 = np.array([generate_random_time_series(t) for i in range(0,500)])\n",
    "window_cosin_train = np.array([window(pd.DataFrame(simul500[i][0][:-36]),36) for i in range(len(simul500))])\n",
    "window_sin_train = np.array([window(pd.DataFrame(simul500[i][1][:-36]),36) for i in range(len(simul500))])\n",
    "\n",
    "window_cosin_test = np.array([window(pd.DataFrame(simul500[i][0][-36:]),36) for i in range(len(simul500))])\n",
    "window_sin_test = np.array([window(pd.DataFrame(simul500[i][1][-36:]),36) for i in range(len(simul500))])\n",
    "\n",
    "window_cosin_train.shape, window_sin_train.shape,window_cosin_test.shape, window_sin_test.shape\n",
    "### train\n",
    "# 500개의 타임시리즈\n",
    "# 109개의 시퀀스\n",
    "# 각 시퀀스의 길이 36\n",
    "### test\n",
    "# 500개의 타임시리즈\n",
    "# 1개의 시퀀스\n",
    "# 동일함"
   ]
  },
  {
   "cell_type": "code",
   "execution_count": 498,
   "id": "30f93cfe",
   "metadata": {
    "scrolled": true
   },
   "outputs": [],
   "source": [
    "# num을 기준으로 인풋 X와 y를 분리\n",
    "num = 12\n",
    "\n",
    "# cosin\n",
    "cosin_X_y_split= [[[window_cosin_train [j][i][:-12], window_cosin_train [j][i][-12:]] for i in range(len(window_cosin_train [0]))] for j in range(len(window_cosin_train))]\n",
    "# 인풋 X와 y를 하나의 데이터프레임으로 생성\n",
    "cosin_X_train= pd.concat([pd.concat([pd.DataFrame(cosin_X_y_split[j][i][0]).T for i in range(len(cosin_X_y_split[0]))]) for j in range(len(cosin_X_y_split))])\n",
    "cosin_y_train= pd.concat([pd.concat([pd.DataFrame(cosin_X_y_split[j][i][1]).T for i in range(len(cosin_X_y_split[1]))]) for j in range(len(cosin_X_y_split))])\n",
    "\n",
    "\n",
    "#sin\n",
    "sin_X_y_split= [[[window_sin_train [j][i][:-12], window_sin_train [j][i][-12:]] for i in range(len(window_sin_train [0]))] for j in range(len(window_sin_train))]\n",
    "# 인풋 X와 y를 하나의 데이터프레임으로 생성\n",
    "sin_X_train= pd.concat([pd.concat([pd.DataFrame(sin_X_y_split[j][i][0]).T for i in range(len(sin_X_y_split[0]))]) for j in range(len(sin_X_y_split))])\n",
    "sin_y_train= pd.concat([pd.concat([pd.DataFrame(sin_X_y_split[j][i][1]).T for i in range(len(sin_X_y_split[1]))]) for j in range(len(sin_X_y_split))])"
   ]
  },
  {
   "cell_type": "code",
   "execution_count": 505,
   "id": "1c382115",
   "metadata": {},
   "outputs": [
    {
     "data": {
      "text/plain": [
       "((109000, 24), (109000, 12))"
      ]
     },
     "execution_count": 505,
     "metadata": {},
     "output_type": "execute_result"
    }
   ],
   "source": [
    "X_train = pd.concat([cosin_X_train,sin_X_train])\n",
    "y_train = pd.concat([cosin_y_train,sin_y_train])\n",
    "\n",
    "X_train.shape, y_train.shape"
   ]
  },
  {
   "cell_type": "code",
   "execution_count": 510,
   "id": "acaf4210",
   "metadata": {},
   "outputs": [],
   "source": [
    "from sklearn.preprocessing import MinMaxScaler"
   ]
  },
  {
   "cell_type": "code",
   "execution_count": 515,
   "id": "ee54aacd",
   "metadata": {},
   "outputs": [],
   "source": [
    "minmax = MinMaxScaler()\n",
    "scale_df = pd.DataFrame(minmax.fit_transform(pd.concat([X_train,y_train],axis=1)))"
   ]
  },
  {
   "cell_type": "code",
   "execution_count": 521,
   "id": "4f77ed9a",
   "metadata": {},
   "outputs": [],
   "source": [
    "sclae_X_train = scale_df.iloc[:,:24]\n",
    "sclae_y_train = scale_df.iloc[:,24:]"
   ]
  }
 ],
 "metadata": {
  "kernelspec": {
   "display_name": "Python 3 (ipykernel)",
   "language": "python",
   "name": "python3"
  },
  "language_info": {
   "codemirror_mode": {
    "name": "ipython",
    "version": 3
   },
   "file_extension": ".py",
   "mimetype": "text/x-python",
   "name": "python",
   "nbconvert_exporter": "python",
   "pygments_lexer": "ipython3",
   "version": "3.10.9"
  }
 },
 "nbformat": 4,
 "nbformat_minor": 5
}
