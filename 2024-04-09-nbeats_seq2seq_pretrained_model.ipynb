{
 "cells": [
  {
   "cell_type": "markdown",
   "id": "90edd274",
   "metadata": {},
   "source": [
    "# nbeats seq2seq 'Yearly' 적합 모델 예제"
   ]
  },
  {
   "cell_type": "markdown",
   "id": "953609b6",
   "metadata": {},
   "source": [
    "####  밑의 소스코드를 활용한 seq2seq yearly 모델 구현예제\n",
    "- 다른 계절성 패턴과 lookback, loss 함수등의 여러 앙상블은 구현하지 않은 단편 모델\n",
    "- 데이터 구현 : https://github.com/ServiceNow/N-BEATS/tree/master\n",
    "- 모델 아키텍쳐 : https://github.com/philipperemy/n-beats\n"
   ]
  },
  {
   "cell_type": "markdown",
   "id": "904b3bff",
   "metadata": {},
   "source": [
    "---"
   ]
  },
  {
   "cell_type": "code",
   "execution_count": 449,
   "id": "a6fd7c75",
   "metadata": {},
   "outputs": [],
   "source": [
    "from nbeats_keras.model import NBeatsNet as NBeatsKeras\n",
    "from tensorflow.keras import backend as K\n",
    "from tensorflow.keras.callbacks import EarlyStopping, ModelCheckpoint\n",
    "#from nbeats_pytorch.model import NBeatsNet as NBeatsPytorch\n",
    "from keras.optimizers import RMSprop, Adam\n",
    "\n",
    "import pandas as pd \n",
    "import numpy as np\n",
    "import matplotlib.pyplot as plt\n",
    "import time"
   ]
  },
  {
   "cell_type": "markdown",
   "id": "a01e912c",
   "metadata": {},
   "source": [
    "## m4data"
   ]
  },
  {
   "cell_type": "code",
   "execution_count": 451,
   "id": "00cb34ea",
   "metadata": {},
   "outputs": [],
   "source": [
    "\n",
    "import logging\n",
    "import os\n",
    "import pathlib\n",
    "import sys\n",
    "from urllib import request\n",
    "\n",
    "def download(url: str, file_path: str) -> None:\n",
    "    \"\"\"\n",
    "    Download a file to the given path.\n",
    "\n",
    "    :param url: URL to download\n",
    "    :param file_path: Where to download the content.\n",
    "    \"\"\"\n",
    "\n",
    "    def progress(count, block_size, total_size):\n",
    "        progress_pct = float(count * block_size) / float(total_size) * 100.0\n",
    "        sys.stdout.write('\\rDownloading {} to {} {:.1f}%'.format(url, file_path, progress_pct))\n",
    "        sys.stdout.flush()\n",
    "\n",
    "    if not os.path.isfile(file_path):\n",
    "        opener = request.build_opener()\n",
    "        opener.addheaders = [('User-agent', 'Mozilla/5.0')]\n",
    "        request.install_opener(opener)\n",
    "        pathlib.Path(os.path.dirname(file_path)).mkdir(parents=True, exist_ok=True)\n",
    "        f, _ = request.urlretrieve(url, file_path, progress)\n",
    "        sys.stdout.write('\\n')\n",
    "        sys.stdout.flush()\n",
    "        file_info = os.stat(f)\n",
    "        logging.info(f'Successfully downloaded {os.path.basename(file_path)} {file_info.st_size} bytes.')\n",
    "    else:\n",
    "        file_info = os.stat(file_path)\n",
    "        logging.info(f'File already exists: {file_path} {file_info.st_size} bytes.')\n",
    "\n",
    "\n",
    "def url_file_name(url: str) -> str:\n",
    "    \"\"\"\n",
    "    Extract file name from url.\n",
    "\n",
    "    :param url: URL to extract file name from.\n",
    "    :return: File name.\n",
    "    \"\"\"\n",
    "    return url.split('/')[-1] if len(url) > 0 else ''\n",
    "\"\"\"\n",
    "M4 Dataset\n",
    "\"\"\"\n",
    "import logging\n",
    "import os\n",
    "from collections import OrderedDict\n",
    "from dataclasses import dataclass\n",
    "from glob import glob\n",
    "\n",
    "import numpy as np\n",
    "import pandas as pd\n",
    "#import patoolib\n",
    "from tqdm import tqdm\n",
    "\n",
    "#from common.http_utils import download, url_file_name\n",
    "#from common.settings import DATASETS_PATH\n",
    "\n",
    "\n",
    "STORAGE=os.getenv('STORAGE')\n",
    "DATASETS_PATH=os.path.join(STORAGE, 'datasets')\n",
    "EXPERIMENTS_PATH=os.path.join(STORAGE, 'experiments')\n",
    "TESTS_STORAGE_PATH=os.path.join(STORAGE, 'test')\n",
    "FREQUENCIES = ['Hourly', 'Daily', 'Weekly', 'Monthly', 'Quarterly', 'Yearly']\n",
    "URL_TEMPLATE = 'https://github.com/Mcompetitions/M4-methods/raw/master/Dataset/{}/{}-{}.csv'\n",
    "\n",
    "TRAINING_DATASET_URLS = [URL_TEMPLATE.format(\"Train\", freq, \"train\") for freq in FREQUENCIES]\n",
    "TEST_DATASET_URLS = [URL_TEMPLATE.format(\"Test\", freq, \"test\") for freq in FREQUENCIES]\n",
    "INFO_URL = 'https://github.com/Mcompetitions/M4-methods/raw/master/Dataset/M4-info.csv'\n",
    "NAIVE2_FORECAST_URL = 'https://github.com/M4Competition/M4-methods/raw/master/Point%20Forecasts/submission-Naive2.rar'\n",
    "\n",
    "DATASET_PATH = os.path.join(DATASETS_PATH, 'm4')\n",
    "\n",
    "TRAINING_DATASET_FILE_PATHS = [os.path.join(DATASET_PATH, url_file_name(url)) for url in TRAINING_DATASET_URLS]\n",
    "TEST_DATASET_FILE_PATHS = [os.path.join(DATASET_PATH, url_file_name(url)) for url in TEST_DATASET_URLS]\n",
    "INFO_FILE_PATH = os.path.join(DATASET_PATH, url_file_name(INFO_URL))\n",
    "NAIVE2_FORECAST_FILE_PATH = os.path.join(DATASET_PATH, 'submission-Naive2.csv')\n",
    "\n",
    "\n",
    "TRAINING_DATASET_CACHE_FILE_PATH = os.path.join(DATASET_PATH, 'training.npz')\n",
    "TEST_DATASET_CACHE_FILE_PATH = os.path.join(DATASET_PATH, 'test.npz')\n",
    "\n",
    "\n",
    "@dataclass()\n",
    "class M4Dataset:\n",
    "    ids: np.ndarray\n",
    "    groups: np.ndarray\n",
    "    frequencies: np.ndarray\n",
    "    horizons: np.ndarray\n",
    "    values: np.ndarray\n",
    "\n",
    "    @staticmethod\n",
    "    def load(training: bool = True) -> 'M4Dataset':\n",
    "        \"\"\"\n",
    "        Load cached dataset.\n",
    "\n",
    "        :param training: Load training part if training is True, test part otherwise.\n",
    "        \"\"\"\n",
    "        m4_info = pd.read_csv(INFO_FILE_PATH)\n",
    "        return M4Dataset(ids=m4_info.M4id.values,\n",
    "                         groups=m4_info.SP.values,\n",
    "                         frequencies=m4_info.Frequency.values,\n",
    "                         horizons=m4_info.Horizon.values,\n",
    "                         values=np.load(\n",
    "                             TRAINING_DATASET_CACHE_FILE_PATH if training else TEST_DATASET_CACHE_FILE_PATH,\n",
    "                             allow_pickle=True))\n",
    "\n",
    "    @staticmethod\n",
    "    def download() -> None:\n",
    "        \"\"\"\n",
    "        Download M4 dataset if doesn't exist.\n",
    "        \"\"\"\n",
    "        if os.path.isdir(DATASET_PATH):\n",
    "            logging.info(f'skip: {DATASET_PATH} directory already exists.')\n",
    "            return\n",
    "\n",
    "        download(INFO_URL, INFO_FILE_PATH)\n",
    "        m4_ids = pd.read_csv(INFO_FILE_PATH).M4id.values\n",
    "\n",
    "        def build_cache(files: str, cache_path: str) -> None:\n",
    "            timeseries_dict = OrderedDict(list(zip(m4_ids, [[]] * len(m4_ids))))\n",
    "            logging.info(f'Caching {files}')\n",
    "            for train_csv in tqdm(glob(os.path.join(DATASET_PATH, files))):\n",
    "                dataset = pd.read_csv(train_csv)\n",
    "                dataset.set_index(dataset.columns[0], inplace=True)\n",
    "                for m4id, row in dataset.iterrows():\n",
    "                    values = row.values\n",
    "                    timeseries_dict[m4id] = values[~np.isnan(values)]\n",
    "            np.array(list(timeseries_dict.values())).dump(cache_path)\n",
    "\n",
    "        for url, path in zip(TRAINING_DATASET_URLS, TRAINING_DATASET_FILE_PATHS):\n",
    "            download(url, path)\n",
    "        build_cache('*-train.csv', TRAINING_DATASET_CACHE_FILE_PATH)\n",
    "\n",
    "        for url, path in zip(TEST_DATASET_URLS, TEST_DATASET_FILE_PATHS):\n",
    "            download(url, path)\n",
    "        build_cache('*-test.csv', TEST_DATASET_CACHE_FILE_PATH)\n",
    "\n",
    "        naive2_archive = os.path.join(DATASET_PATH, url_file_name(NAIVE2_FORECAST_URL))\n",
    "        download(NAIVE2_FORECAST_URL, naive2_archive)\n",
    "        patoolib.extract_archive(naive2_archive, outdir=DATASET_PATH)\n",
    "\n",
    "\n",
    "@dataclass()\n",
    "class M4Meta:\n",
    "    seasonal_patterns = ['Yearly', 'Quarterly', 'Monthly', 'Weekly', 'Daily', 'Hourly']\n",
    "    horizons = [6, 8, 18, 13, 14, 48]\n",
    "    frequencies = [1, 4, 12, 1, 1, 24]\n",
    "    horizons_map = {\n",
    "        'Yearly': 6,\n",
    "        'Quarterly': 8,\n",
    "        'Monthly': 18,\n",
    "        'Weekly': 13,\n",
    "        'Daily': 14,\n",
    "        'Hourly': 48\n",
    "    }\n",
    "    frequency_map = {\n",
    "        'Yearly': 1,\n",
    "        'Quarterly': 4,\n",
    "        'Monthly': 12,\n",
    "        'Weekly': 1,\n",
    "        'Daily': 1,\n",
    "        'Hourly': 24\n",
    "    }\n",
    "\n",
    "def load_m4_info() -> pd.DataFrame:\n",
    "    \"\"\"\n",
    "    Load M4Info file.\n",
    "\n",
    "    :return: Pandas DataFrame of M4Info.\n",
    "    \"\"\"\n",
    "    return pd.read_csv(INFO_FILE_PATH)"
   ]
  },
  {
   "cell_type": "code",
   "execution_count": 452,
   "id": "61e74750",
   "metadata": {},
   "outputs": [],
   "source": [
    "train = M4Dataset.load(training=True)\n",
    "test = M4Dataset.load(training=False)"
   ]
  },
  {
   "cell_type": "markdown",
   "id": "9d9af0b2",
   "metadata": {},
   "source": [
    "---"
   ]
  },
  {
   "cell_type": "markdown",
   "id": "54734adb",
   "metadata": {},
   "source": [
    "## data 전처리"
   ]
  },
  {
   "cell_type": "code",
   "execution_count": 453,
   "id": "44b21260",
   "metadata": {},
   "outputs": [],
   "source": [
    "def group_values(values: np.ndarray, groups: np.ndarray, group_name: str) -> np.ndarray:\n",
    "    \"\"\"\n",
    "    Filter values array by group indices and clean it from NaNs.\n",
    "\n",
    "    :param values: Values to filter.\n",
    "    :param groups: Timeseries groups.\n",
    "    :param group_name: Group name to filter by.\n",
    "    :return: Filtered and cleaned timeseries.\n",
    "    \"\"\"\n",
    "    return [v[~np.isnan(v)] for v in values[groups == group_name]]"
   ]
  },
  {
   "cell_type": "code",
   "execution_count": 454,
   "id": "5a691d70",
   "metadata": {},
   "outputs": [
    {
     "data": {
      "text/plain": [
       "['Yearly', 'Quarterly', 'Monthly', 'Weekly', 'Daily', 'Hourly']"
      ]
     },
     "execution_count": 454,
     "metadata": {},
     "output_type": "execute_result"
    }
   ],
   "source": [
    "M4Meta.seasonal_patterns"
   ]
  },
  {
   "cell_type": "code",
   "execution_count": 455,
   "id": "b8c5abac",
   "metadata": {
    "scrolled": true
   },
   "outputs": [],
   "source": [
    "# 계절성분별로 m4데이터 리스트로 분할\n",
    "group_train= [group_values(train.values, train.groups, M4Meta.seasonal_patterns[i]) for i in range(len(M4Meta.seasonal_patterns))]\n",
    "group_test= [group_values(test.values, test.groups, M4Meta.seasonal_patterns[i]) for i in range(len(M4Meta.seasonal_patterns))]"
   ]
  },
  {
   "cell_type": "code",
   "execution_count": 456,
   "id": "5f4dfacb",
   "metadata": {},
   "outputs": [],
   "source": [
    "\"\"\"\n",
    "Timeseries sampler\n",
    "\"\"\"\n",
    "import numpy as np\n",
    "\n",
    "#import gin\n",
    "\n",
    "#@gin.configurable\n",
    "class TimeseriesSampler:\n",
    "    def __init__(self,\n",
    "                 timeseries: np.ndarray,\n",
    "                 insample_size: int,\n",
    "                 outsample_size: int,\n",
    "                 window_sampling_limit: int,\n",
    "                 batch_size: int = 1024):\n",
    "        \"\"\"\n",
    "        Timeseries sampler.\n",
    "\n",
    "        :param timeseries: Timeseries data to sample from. Shape: timeseries, timesteps\n",
    "        :param insample_size: Insample window size. If timeseries is shorter then it will be 0-padded and masked.\n",
    "        :param outsample_size: Outsample window size. If timeseries is shorter then it will be 0-padded and masked.\n",
    "        :param window_sampling_limit: Size of history the sampler should use.\n",
    "        :param batch_size: Number of sampled windows.\n",
    "        \"\"\"\n",
    "        self.timeseries = [ts for ts in timeseries]\n",
    "        self.window_sampling_limit = window_sampling_limit\n",
    "        self.batch_size = batch_size\n",
    "        self.insample_size = insample_size\n",
    "        self.outsample_size = outsample_size\n",
    "\n",
    "    def __iter__(self):\n",
    "        \"\"\"\n",
    "        Batches of sampled windows.\n",
    "\n",
    "        :return: Batches of:\n",
    "         Insample: \"batch size, insample size\"\n",
    "         Insample mask: \"batch size, insample size\"\n",
    "         Outsample: \"batch size, outsample size\"\n",
    "         Outsample mask: \"batch size, outsample size\"\n",
    "        \"\"\"\n",
    "        while True:\n",
    "            insample = np.zeros((self.batch_size, self.insample_size))\n",
    "            insample_mask = np.zeros((self.batch_size, self.insample_size))\n",
    "            outsample = np.zeros((self.batch_size, self.outsample_size))\n",
    "            outsample_mask = np.zeros((self.batch_size, self.outsample_size))\n",
    "            sampled_ts_indices = np.random.randint(len(self.timeseries), size=self.batch_size)\n",
    "            for i, sampled_index in enumerate(sampled_ts_indices):\n",
    "                sampled_timeseries = self.timeseries[sampled_index]\n",
    "                cut_point = np.random.randint(low=max(1, len(sampled_timeseries) - self.window_sampling_limit),\n",
    "                                              high=len(sampled_timeseries),\n",
    "                                              size=1)[0]\n",
    "\n",
    "                insample_window = sampled_timeseries[max(0, cut_point - self.insample_size):cut_point]\n",
    "                insample[i, -len(insample_window):] = insample_window\n",
    "                insample_mask[i, -len(insample_window):] = 1.0\n",
    "                outsample_window = sampled_timeseries[\n",
    "                                   cut_point:min(len(sampled_timeseries), cut_point + self.outsample_size)]\n",
    "                outsample[i, :len(outsample_window)] = outsample_window\n",
    "                outsample_mask[i, :len(outsample_window)] = 1.0\n",
    "            yield insample, insample_mask, outsample, outsample_mask\n",
    "\n",
    "    def last_insample_window(self):\n",
    "        \"\"\"\n",
    "        The last window of insample size of all timeseries.\n",
    "        This function does not support batching and does not reshuffle timeseries.\n",
    "\n",
    "        :return: Last insample window of all timeseries. Shape \"timeseries, insample size\"\n",
    "        \"\"\"\n",
    "        insample = np.zeros((len(self.timeseries), self.insample_size))\n",
    "        insample_mask = np.zeros((len(self.timeseries), self.insample_size))\n",
    "        for i, ts in enumerate(self.timeseries):\n",
    "            ts_last_window = ts[-self.insample_size:]\n",
    "            insample[i, -len(ts):] = ts_last_window\n",
    "            insample_mask[i, -len(ts):] = 1.0\n",
    "        return insample, insample_mask"
   ]
  },
  {
   "cell_type": "code",
   "execution_count": 457,
   "id": "91f7a03c",
   "metadata": {},
   "outputs": [],
   "source": [
    "# group_train[0] -> 년간 시계열\n",
    "train_x =TimeseriesSampler(group_train[0],10,3,1)\n",
    "test_y =TimeseriesSampler(group_test[0],10,3,1)"
   ]
  },
  {
   "cell_type": "code",
   "execution_count": 458,
   "id": "1135a6ba",
   "metadata": {},
   "outputs": [
    {
     "data": {
      "text/plain": [
       "12"
      ]
     },
     "execution_count": 458,
     "metadata": {},
     "output_type": "execute_result"
    }
   ],
   "source": [
    "# X의 인풋사이즈 설정\n",
    "# data의 길이가 인풋사이즈보다 작을때 문제점있음\n",
    "lookback = np.array([2,3,4,5,6,7])\n",
    "horizon = M4Meta.horizons_map['Yearly']\n",
    "inputsize = lookback[0]*horizon\n",
    "inputsize"
   ]
  },
  {
   "cell_type": "code",
   "execution_count": 499,
   "id": "0e2ee899",
   "metadata": {},
   "outputs": [],
   "source": [
    "X = np.array([train_x.timeseries[i][-inputsize:] for i in range(len(train_x.timeseries))])\n",
    "y = np.array([test_y.timeseries[i] for i in range(len(test_y.timeseries))])"
   ]
  },
  {
   "cell_type": "code",
   "execution_count": 460,
   "id": "452e64ec",
   "metadata": {
    "scrolled": false
   },
   "outputs": [
    {
     "data": {
      "text/plain": [
       "((23000, 12), (23000, 6))"
      ]
     },
     "execution_count": 460,
     "metadata": {},
     "output_type": "execute_result"
    }
   ],
   "source": [
    "X.shape ,y.shape"
   ]
  },
  {
   "cell_type": "code",
   "execution_count": 580,
   "id": "e28c3eae",
   "metadata": {},
   "outputs": [
    {
     "data": {
      "text/plain": [
       "((23000, 12), (23000, 6))"
      ]
     },
     "execution_count": 580,
     "metadata": {},
     "output_type": "execute_result"
    }
   ],
   "source": [
    "from sklearn.preprocessing import MinMaxScaler\n",
    "minmax = MinMaxScaler()\n",
    "#minmax.transform(X)\n",
    "#minmax.transform(y)\n",
    "xy= np.concatenate([X,y],axis=1)\n",
    "minmax.fit(xy)\n",
    "scale_xy = minmax.transform(xy)\n",
    "X_scale,y_scale = scale_xy[:,:12], scale_xy[:,12:]\n",
    "\n",
    "X_scale.shape, y_scale.shape"
   ]
  },
  {
   "cell_type": "markdown",
   "id": "39ad0579",
   "metadata": {},
   "source": [
    "## target data\n",
    "\n",
    "- 대한민국 전력데이터 : 13년부터 20년 전력수요량"
   ]
  },
  {
   "cell_type": "code",
   "execution_count": 465,
   "id": "ac3209fa",
   "metadata": {},
   "outputs": [
    {
     "data": {
      "text/plain": [
       "((3287, 25), (365, 25), (365, 25))"
      ]
     },
     "execution_count": 465,
     "metadata": {},
     "output_type": "execute_result"
    }
   ],
   "source": [
    "num= [20,21,22,23]\n",
    "df = [pd.read_csv('C:\\\\Users\\\\default.DESKTOP-2ISHQBS\\\\lab\\\\task1\\\\demand{}.csv'.format(num[i]), encoding='cp949') for i in range(len(num))]\n",
    "train_set = pd.concat([df[0],df[1]],axis=0)\n",
    "vaild_set = df[2]\n",
    "test_set=df[3]\n",
    "\n",
    "train_set.shape, vaild_set.shape,test_set.shape"
   ]
  },
  {
   "cell_type": "code",
   "execution_count": 466,
   "id": "81006707",
   "metadata": {},
   "outputs": [],
   "source": [
    "class sample:\n",
    "    #####################################################################################\n",
    "    ### 데이터프레임, 날짜 입력\n",
    "    ### \n",
    "    def __init__(self,df,str):\n",
    "        self.df = df\n",
    "        self.date= df[str]\n",
    "        self.date=pd.to_datetime(self.date)\n",
    "    def monthly(self):    \n",
    "    #####################################################################################\n",
    "    ### 시간별 데이터 -> 월별 데이터로\n",
    "    ### 인덱스 : 년/월, 변수 : y        \n",
    "        self.train = pd.DataFrame({'date':self.date,'y':self.df.iloc[:,1:].sum(axis=1).values})\n",
    "        self.train = self.train.groupby(self.train['date'].dt.to_period('M')).sum(numeric_only=True)\n",
    "        #self.index= self.df.index\n",
    "        #self.sample = pd.DataFrame(self.df.sum(axis=1))\n",
    "        #self.sample.columns = ['y']\n",
    "        return self.train"
   ]
  },
  {
   "cell_type": "code",
   "execution_count": 467,
   "id": "050d0dbd",
   "metadata": {},
   "outputs": [],
   "source": [
    "target_train =sample(train_set,'날짜')\n",
    "target_vaild =sample(vaild_set,'날짜')\n",
    "target_test =sample(test_set,'날짜')"
   ]
  },
  {
   "cell_type": "code",
   "execution_count": 468,
   "id": "6411178b",
   "metadata": {},
   "outputs": [],
   "source": [
    "class WINdow:\n",
    "    def __init__(self,df,timestep):\n",
    "        self.df = df\n",
    "        self.timestep=timestep+1 # 예상한 timestep보다 1적기 때문에 +1\n",
    "        \n",
    "    def window(self):\n",
    "        for i in range(1, self.timestep):\n",
    "            df['shift_{}'.format(i)] = df.iloc[:,0].shift(i)\n",
    "            df['shift_{}'.format(i)] = df.iloc[:,0].shift(i)\n",
    "        window_df = df.dropna(axis=0) # 결측치 공간 제거\n",
    "        self.window_df = window_df.iloc[:,::-1] # 좌우 반전\n",
    "        \n",
    "                \n",
    "        self.feature= self.window_df.iloc[:,:-1].values\n",
    "        self.y_label= self.window_df.iloc[:,-1].values\n",
    "        \n",
    "        return self. window_df"
   ]
  },
  {
   "cell_type": "code",
   "execution_count": 469,
   "id": "d0949464",
   "metadata": {},
   "outputs": [],
   "source": [
    "df = target_train.monthly()\n",
    "df_val = target_vaild.monthly()\n",
    "df_test = target_test.monthly()"
   ]
  },
  {
   "cell_type": "code",
   "execution_count": 577,
   "id": "47f28dee",
   "metadata": {},
   "outputs": [
    {
     "data": {
      "text/html": [
       "<div>\n",
       "<style scoped>\n",
       "    .dataframe tbody tr th:only-of-type {\n",
       "        vertical-align: middle;\n",
       "    }\n",
       "\n",
       "    .dataframe tbody tr th {\n",
       "        vertical-align: top;\n",
       "    }\n",
       "\n",
       "    .dataframe thead th {\n",
       "        text-align: right;\n",
       "    }\n",
       "</style>\n",
       "<table border=\"1\" class=\"dataframe\">\n",
       "  <thead>\n",
       "    <tr style=\"text-align: right;\">\n",
       "      <th></th>\n",
       "      <th>shift_18</th>\n",
       "      <th>shift_17</th>\n",
       "      <th>shift_16</th>\n",
       "      <th>shift_15</th>\n",
       "      <th>shift_14</th>\n",
       "      <th>shift_13</th>\n",
       "      <th>shift_12</th>\n",
       "      <th>shift_11</th>\n",
       "      <th>shift_10</th>\n",
       "      <th>shift_9</th>\n",
       "      <th>shift_8</th>\n",
       "      <th>shift_7</th>\n",
       "      <th>shift_6</th>\n",
       "      <th>shift_5</th>\n",
       "      <th>shift_4</th>\n",
       "      <th>shift_3</th>\n",
       "      <th>shift_2</th>\n",
       "      <th>shift_1</th>\n",
       "    </tr>\n",
       "    <tr>\n",
       "      <th>date</th>\n",
       "      <th></th>\n",
       "      <th></th>\n",
       "      <th></th>\n",
       "      <th></th>\n",
       "      <th></th>\n",
       "      <th></th>\n",
       "      <th></th>\n",
       "      <th></th>\n",
       "      <th></th>\n",
       "      <th></th>\n",
       "      <th></th>\n",
       "      <th></th>\n",
       "      <th></th>\n",
       "      <th></th>\n",
       "      <th></th>\n",
       "      <th></th>\n",
       "      <th></th>\n",
       "      <th></th>\n",
       "    </tr>\n",
       "  </thead>\n",
       "  <tbody>\n",
       "    <tr>\n",
       "      <th>2014-07</th>\n",
       "      <td>4814.6417</td>\n",
       "      <td>4102.1035</td>\n",
       "      <td>4312.4632</td>\n",
       "      <td>4030.2921</td>\n",
       "      <td>3977.3910</td>\n",
       "      <td>4013.8415</td>\n",
       "      <td>4400.9912</td>\n",
       "      <td>4473.6826</td>\n",
       "      <td>3840.7957</td>\n",
       "      <td>4084.9274</td>\n",
       "      <td>4258.2416</td>\n",
       "      <td>4695.9676</td>\n",
       "      <td>4686.7424</td>\n",
       "      <td>4177.9631</td>\n",
       "      <td>4425.1754</td>\n",
       "      <td>4039.1497</td>\n",
       "      <td>4054.0187</td>\n",
       "      <td>4055.0669</td>\n",
       "    </tr>\n",
       "    <tr>\n",
       "      <th>2014-08</th>\n",
       "      <td>4102.1035</td>\n",
       "      <td>4312.4632</td>\n",
       "      <td>4030.2921</td>\n",
       "      <td>3977.3910</td>\n",
       "      <td>4013.8415</td>\n",
       "      <td>4400.9912</td>\n",
       "      <td>4473.6826</td>\n",
       "      <td>3840.7957</td>\n",
       "      <td>4084.9274</td>\n",
       "      <td>4258.2416</td>\n",
       "      <td>4695.9676</td>\n",
       "      <td>4686.7424</td>\n",
       "      <td>4177.9631</td>\n",
       "      <td>4425.1754</td>\n",
       "      <td>4039.1497</td>\n",
       "      <td>4054.0187</td>\n",
       "      <td>4055.0669</td>\n",
       "      <td>4503.0640</td>\n",
       "    </tr>\n",
       "    <tr>\n",
       "      <th>2014-09</th>\n",
       "      <td>4312.4632</td>\n",
       "      <td>4030.2921</td>\n",
       "      <td>3977.3910</td>\n",
       "      <td>4013.8415</td>\n",
       "      <td>4400.9912</td>\n",
       "      <td>4473.6826</td>\n",
       "      <td>3840.7957</td>\n",
       "      <td>4084.9274</td>\n",
       "      <td>4258.2416</td>\n",
       "      <td>4695.9676</td>\n",
       "      <td>4686.7424</td>\n",
       "      <td>4177.9631</td>\n",
       "      <td>4425.1754</td>\n",
       "      <td>4039.1497</td>\n",
       "      <td>4054.0187</td>\n",
       "      <td>4055.0669</td>\n",
       "      <td>4503.0640</td>\n",
       "      <td>4263.7237</td>\n",
       "    </tr>\n",
       "    <tr>\n",
       "      <th>2014-10</th>\n",
       "      <td>4030.2921</td>\n",
       "      <td>3977.3910</td>\n",
       "      <td>4013.8415</td>\n",
       "      <td>4400.9912</td>\n",
       "      <td>4473.6826</td>\n",
       "      <td>3840.7957</td>\n",
       "      <td>4084.9274</td>\n",
       "      <td>4258.2416</td>\n",
       "      <td>4695.9676</td>\n",
       "      <td>4686.7424</td>\n",
       "      <td>4177.9631</td>\n",
       "      <td>4425.1754</td>\n",
       "      <td>4039.1497</td>\n",
       "      <td>4054.0187</td>\n",
       "      <td>4055.0669</td>\n",
       "      <td>4503.0640</td>\n",
       "      <td>4263.7237</td>\n",
       "      <td>3954.4689</td>\n",
       "    </tr>\n",
       "    <tr>\n",
       "      <th>2014-11</th>\n",
       "      <td>3977.3910</td>\n",
       "      <td>4013.8415</td>\n",
       "      <td>4400.9912</td>\n",
       "      <td>4473.6826</td>\n",
       "      <td>3840.7957</td>\n",
       "      <td>4084.9274</td>\n",
       "      <td>4258.2416</td>\n",
       "      <td>4695.9676</td>\n",
       "      <td>4686.7424</td>\n",
       "      <td>4177.9631</td>\n",
       "      <td>4425.1754</td>\n",
       "      <td>4039.1497</td>\n",
       "      <td>4054.0187</td>\n",
       "      <td>4055.0669</td>\n",
       "      <td>4503.0640</td>\n",
       "      <td>4263.7237</td>\n",
       "      <td>3954.4689</td>\n",
       "      <td>4140.5542</td>\n",
       "    </tr>\n",
       "    <tr>\n",
       "      <th>...</th>\n",
       "      <td>...</td>\n",
       "      <td>...</td>\n",
       "      <td>...</td>\n",
       "      <td>...</td>\n",
       "      <td>...</td>\n",
       "      <td>...</td>\n",
       "      <td>...</td>\n",
       "      <td>...</td>\n",
       "      <td>...</td>\n",
       "      <td>...</td>\n",
       "      <td>...</td>\n",
       "      <td>...</td>\n",
       "      <td>...</td>\n",
       "      <td>...</td>\n",
       "      <td>...</td>\n",
       "      <td>...</td>\n",
       "      <td>...</td>\n",
       "      <td>...</td>\n",
       "    </tr>\n",
       "    <tr>\n",
       "      <th>2021-08</th>\n",
       "      <td>4527.6997</td>\n",
       "      <td>4465.5247</td>\n",
       "      <td>4053.0244</td>\n",
       "      <td>3996.8136</td>\n",
       "      <td>4224.9774</td>\n",
       "      <td>4556.3568</td>\n",
       "      <td>4983.3200</td>\n",
       "      <td>4342.9122</td>\n",
       "      <td>4213.0747</td>\n",
       "      <td>4390.1883</td>\n",
       "      <td>5053.3085</td>\n",
       "      <td>5199.3772</td>\n",
       "      <td>4357.0927</td>\n",
       "      <td>4545.2646</td>\n",
       "      <td>4178.1923</td>\n",
       "      <td>4254.7971</td>\n",
       "      <td>4406.4646</td>\n",
       "      <td>5246.1675</td>\n",
       "    </tr>\n",
       "    <tr>\n",
       "      <th>2021-09</th>\n",
       "      <td>4465.5247</td>\n",
       "      <td>4053.0244</td>\n",
       "      <td>3996.8136</td>\n",
       "      <td>4224.9774</td>\n",
       "      <td>4556.3568</td>\n",
       "      <td>4983.3200</td>\n",
       "      <td>4342.9122</td>\n",
       "      <td>4213.0747</td>\n",
       "      <td>4390.1883</td>\n",
       "      <td>5053.3085</td>\n",
       "      <td>5199.3772</td>\n",
       "      <td>4357.0927</td>\n",
       "      <td>4545.2646</td>\n",
       "      <td>4178.1923</td>\n",
       "      <td>4254.7971</td>\n",
       "      <td>4406.4646</td>\n",
       "      <td>5246.1675</td>\n",
       "      <td>5032.0938</td>\n",
       "    </tr>\n",
       "    <tr>\n",
       "      <th>2021-10</th>\n",
       "      <td>4053.0244</td>\n",
       "      <td>3996.8136</td>\n",
       "      <td>4224.9774</td>\n",
       "      <td>4556.3568</td>\n",
       "      <td>4983.3200</td>\n",
       "      <td>4342.9122</td>\n",
       "      <td>4213.0747</td>\n",
       "      <td>4390.1883</td>\n",
       "      <td>5053.3085</td>\n",
       "      <td>5199.3772</td>\n",
       "      <td>4357.0927</td>\n",
       "      <td>4545.2646</td>\n",
       "      <td>4178.1923</td>\n",
       "      <td>4254.7971</td>\n",
       "      <td>4406.4646</td>\n",
       "      <td>5246.1675</td>\n",
       "      <td>5032.0938</td>\n",
       "      <td>4401.5322</td>\n",
       "    </tr>\n",
       "    <tr>\n",
       "      <th>2021-11</th>\n",
       "      <td>3996.8136</td>\n",
       "      <td>4224.9774</td>\n",
       "      <td>4556.3568</td>\n",
       "      <td>4983.3200</td>\n",
       "      <td>4342.9122</td>\n",
       "      <td>4213.0747</td>\n",
       "      <td>4390.1883</td>\n",
       "      <td>5053.3085</td>\n",
       "      <td>5199.3772</td>\n",
       "      <td>4357.0927</td>\n",
       "      <td>4545.2646</td>\n",
       "      <td>4178.1923</td>\n",
       "      <td>4254.7971</td>\n",
       "      <td>4406.4646</td>\n",
       "      <td>5246.1675</td>\n",
       "      <td>5032.0938</td>\n",
       "      <td>4401.5322</td>\n",
       "      <td>4447.2937</td>\n",
       "    </tr>\n",
       "    <tr>\n",
       "      <th>2021-12</th>\n",
       "      <td>4224.9774</td>\n",
       "      <td>4556.3568</td>\n",
       "      <td>4983.3200</td>\n",
       "      <td>4342.9122</td>\n",
       "      <td>4213.0747</td>\n",
       "      <td>4390.1883</td>\n",
       "      <td>5053.3085</td>\n",
       "      <td>5199.3772</td>\n",
       "      <td>4357.0927</td>\n",
       "      <td>4545.2646</td>\n",
       "      <td>4178.1923</td>\n",
       "      <td>4254.7971</td>\n",
       "      <td>4406.4646</td>\n",
       "      <td>5246.1675</td>\n",
       "      <td>5032.0938</td>\n",
       "      <td>4401.5322</td>\n",
       "      <td>4447.2937</td>\n",
       "      <td>4556.6026</td>\n",
       "    </tr>\n",
       "  </tbody>\n",
       "</table>\n",
       "<p>90 rows × 18 columns</p>\n",
       "</div>"
      ],
      "text/plain": [
       "          shift_18   shift_17   shift_16   shift_15   shift_14   shift_13  \\\n",
       "date                                                                        \n",
       "2014-07  4814.6417  4102.1035  4312.4632  4030.2921  3977.3910  4013.8415   \n",
       "2014-08  4102.1035  4312.4632  4030.2921  3977.3910  4013.8415  4400.9912   \n",
       "2014-09  4312.4632  4030.2921  3977.3910  4013.8415  4400.9912  4473.6826   \n",
       "2014-10  4030.2921  3977.3910  4013.8415  4400.9912  4473.6826  3840.7957   \n",
       "2014-11  3977.3910  4013.8415  4400.9912  4473.6826  3840.7957  4084.9274   \n",
       "...            ...        ...        ...        ...        ...        ...   \n",
       "2021-08  4527.6997  4465.5247  4053.0244  3996.8136  4224.9774  4556.3568   \n",
       "2021-09  4465.5247  4053.0244  3996.8136  4224.9774  4556.3568  4983.3200   \n",
       "2021-10  4053.0244  3996.8136  4224.9774  4556.3568  4983.3200  4342.9122   \n",
       "2021-11  3996.8136  4224.9774  4556.3568  4983.3200  4342.9122  4213.0747   \n",
       "2021-12  4224.9774  4556.3568  4983.3200  4342.9122  4213.0747  4390.1883   \n",
       "\n",
       "          shift_12   shift_11   shift_10    shift_9    shift_8    shift_7  \\\n",
       "date                                                                        \n",
       "2014-07  4400.9912  4473.6826  3840.7957  4084.9274  4258.2416  4695.9676   \n",
       "2014-08  4473.6826  3840.7957  4084.9274  4258.2416  4695.9676  4686.7424   \n",
       "2014-09  3840.7957  4084.9274  4258.2416  4695.9676  4686.7424  4177.9631   \n",
       "2014-10  4084.9274  4258.2416  4695.9676  4686.7424  4177.9631  4425.1754   \n",
       "2014-11  4258.2416  4695.9676  4686.7424  4177.9631  4425.1754  4039.1497   \n",
       "...            ...        ...        ...        ...        ...        ...   \n",
       "2021-08  4983.3200  4342.9122  4213.0747  4390.1883  5053.3085  5199.3772   \n",
       "2021-09  4342.9122  4213.0747  4390.1883  5053.3085  5199.3772  4357.0927   \n",
       "2021-10  4213.0747  4390.1883  5053.3085  5199.3772  4357.0927  4545.2646   \n",
       "2021-11  4390.1883  5053.3085  5199.3772  4357.0927  4545.2646  4178.1923   \n",
       "2021-12  5053.3085  5199.3772  4357.0927  4545.2646  4178.1923  4254.7971   \n",
       "\n",
       "           shift_6    shift_5    shift_4    shift_3    shift_2    shift_1  \n",
       "date                                                                       \n",
       "2014-07  4686.7424  4177.9631  4425.1754  4039.1497  4054.0187  4055.0669  \n",
       "2014-08  4177.9631  4425.1754  4039.1497  4054.0187  4055.0669  4503.0640  \n",
       "2014-09  4425.1754  4039.1497  4054.0187  4055.0669  4503.0640  4263.7237  \n",
       "2014-10  4039.1497  4054.0187  4055.0669  4503.0640  4263.7237  3954.4689  \n",
       "2014-11  4054.0187  4055.0669  4503.0640  4263.7237  3954.4689  4140.5542  \n",
       "...            ...        ...        ...        ...        ...        ...  \n",
       "2021-08  4357.0927  4545.2646  4178.1923  4254.7971  4406.4646  5246.1675  \n",
       "2021-09  4545.2646  4178.1923  4254.7971  4406.4646  5246.1675  5032.0938  \n",
       "2021-10  4178.1923  4254.7971  4406.4646  5246.1675  5032.0938  4401.5322  \n",
       "2021-11  4254.7971  4406.4646  5246.1675  5032.0938  4401.5322  4447.2937  \n",
       "2021-12  4406.4646  5246.1675  5032.0938  4401.5322  4447.2937  4556.6026  \n",
       "\n",
       "[90 rows x 18 columns]"
      ]
     },
     "execution_count": 577,
     "metadata": {},
     "output_type": "execute_result"
    }
   ],
   "source": [
    "target.window().iloc[:,:-1]/10000"
   ]
  },
  {
   "cell_type": "code",
   "execution_count": 664,
   "id": "f803fd78",
   "metadata": {},
   "outputs": [
    {
     "name": "stderr",
     "output_type": "stream",
     "text": [
      "C:\\Users\\default.DESKTOP-2ISHQBS\\anaconda3\\lib\\site-packages\\sklearn\\base.py:413: UserWarning: X has feature names, but MinMaxScaler was fitted without feature names\n",
      "  warnings.warn(\n"
     ]
    },
    {
     "data": {
      "text/plain": [
       "((90, 12), (90, 6))"
      ]
     },
     "execution_count": 664,
     "metadata": {},
     "output_type": "execute_result"
    }
   ],
   "source": [
    "target=WINdow(df,18)\n",
    "#minmax2 = MinMaxScaler()\n",
    "target_scale = minmax.transform(target.window().iloc[:,:-1]/1000)\n",
    "\n",
    "target_X = target_scale[:,:12]\n",
    "target_y = target_scale[:,12:]\n",
    "target_X.shape, target_y.shape "
   ]
  },
  {
   "cell_type": "code",
   "execution_count": 665,
   "id": "4a805639",
   "metadata": {},
   "outputs": [
    {
     "data": {
      "text/plain": [
       "array([[0.66445291, 0.56075288, 0.56606393, ..., 0.36961826, 0.37702059,\n",
       "        0.405564  ],\n",
       "       [0.56601971, 0.58957204, 0.52893078, ..., 0.38536121, 0.41586339,\n",
       "        0.40476557],\n",
       "       [0.59507974, 0.55091476, 0.5219691 , ..., 0.42512195, 0.41504477,\n",
       "        0.36073143],\n",
       "       ...,\n",
       "       [0.55923971, 0.54632822, 0.55455097, ..., 0.47084905, 0.38579241,\n",
       "        0.39252087],\n",
       "       [0.5514745 , 0.57758654, 0.59815984, ..., 0.39434033, 0.40249035,\n",
       "        0.36075127],\n",
       "       [0.58299406, 0.62298533, 0.65434734, ..., 0.41143288, 0.3699172 ,\n",
       "        0.36738131]])"
      ]
     },
     "execution_count": 665,
     "metadata": {},
     "output_type": "execute_result"
    }
   ],
   "source": [
    "target_X"
   ]
  },
  {
   "cell_type": "code",
   "execution_count": 666,
   "id": "85b7a06f",
   "metadata": {},
   "outputs": [],
   "source": [
    "target_scale_X = target_X # minmax.fit_transform(target_X)\n",
    "target_scale_y =target_y #minmax.fit_transform(target_y)"
   ]
  },
  {
   "cell_type": "code",
   "execution_count": 667,
   "id": "0146d015",
   "metadata": {},
   "outputs": [],
   "source": [
    "target_scale_X_train= target_scale_X[:-18,:] \n",
    "target_scale_y_train= target_scale_y[:-18,:] \n",
    "\n",
    "target_scale_X_test=target_scale_X[[-1],:] \n",
    "target_scale_y_test=target_scale_y[[-1],:] "
   ]
  },
  {
   "cell_type": "markdown",
   "id": "3115c4ec",
   "metadata": {},
   "source": [
    "---"
   ]
  },
  {
   "cell_type": "markdown",
   "id": "9940bf7a",
   "metadata": {},
   "source": [
    "## nbeats 모델 구현\n",
    "- **하이퍼파라미터는 최대한 논문과 유사하게 설정**\n",
    "- 앙상블은 아직 진행하지 않음\n",
    "- yearly에대한 단편적인 예측 모형\n",
    "- 단 데이터에 대한 scaling은 진행하였음"
   ]
  },
  {
   "cell_type": "code",
   "execution_count": 656,
   "id": "ba5d74cf",
   "metadata": {
    "scrolled": false
   },
   "outputs": [],
   "source": [
    "input_dim, output_dim =  1, 1\n",
    "backcast=inputsize\n",
    "forecast = M4Meta.horizons_map['Yearly']\n",
    "\n",
    "K.clear_session()\n",
    "model= NBeatsKeras( backcast_length=backcast, forecast_length=forecast, input_dim=input_dim,\n",
    "                   output_dim=output_dim,stack_types=(NBeatsKeras.TREND_BLOCK,\n",
    "                                                      NBeatsKeras.SEASONALITY_BLOCK)\n",
    "                   ,nb_blocks_per_stack=4, thetas_dim=(2,4),\n",
    "                   share_weights_in_stack=True, hidden_layer_units=128)\n",
    "optimizer = Adam(learning_rate=0.001)\n",
    "model.compile(loss='mse', optimizer=optimizer )"
   ]
  },
  {
   "cell_type": "code",
   "execution_count": 657,
   "id": "1fbe9176",
   "metadata": {
    "scrolled": false
   },
   "outputs": [
    {
     "name": "stdout",
     "output_type": "stream",
     "text": [
      "Epoch 1/50\n",
      "180/180 [==============================] - 11s 55ms/step - loss: 3.3383e-04\n",
      "Epoch 2/50\n",
      "180/180 [==============================] - 10s 55ms/step - loss: 1.4758e-04\n",
      "Epoch 3/50\n",
      "180/180 [==============================] - 10s 55ms/step - loss: 1.4492e-04\n",
      "Epoch 4/50\n",
      "180/180 [==============================] - 10s 55ms/step - loss: 1.4556e-04\n",
      "Epoch 5/50\n",
      "180/180 [==============================] - 10s 55ms/step - loss: 1.4311e-04\n",
      "Epoch 6/50\n",
      "180/180 [==============================] - 10s 54ms/step - loss: 1.3967e-04\n",
      "Epoch 7/50\n",
      "180/180 [==============================] - 10s 54ms/step - loss: 1.3933e-04\n",
      "Epoch 8/50\n",
      "180/180 [==============================] - 10s 55ms/step - loss: 1.3433e-04\n",
      "Epoch 9/50\n",
      "180/180 [==============================] - 10s 55ms/step - loss: 1.3539e-04\n",
      "Epoch 10/50\n",
      "180/180 [==============================] - 10s 54ms/step - loss: 1.3752e-04\n",
      "Epoch 11/50\n",
      "180/180 [==============================] - 10s 54ms/step - loss: 1.3544e-04\n",
      "Epoch 12/50\n",
      "180/180 [==============================] - 10s 55ms/step - loss: 1.3359e-04\n",
      "Epoch 13/50\n",
      "180/180 [==============================] - 10s 55ms/step - loss: 1.3304e-04\n",
      "Epoch 14/50\n",
      "180/180 [==============================] - 10s 55ms/step - loss: 1.3356e-04\n",
      "Epoch 15/50\n",
      "180/180 [==============================] - 10s 55ms/step - loss: 1.3310e-04\n",
      "Epoch 16/50\n",
      "180/180 [==============================] - 10s 54ms/step - loss: 1.3197e-04\n",
      "Epoch 17/50\n",
      "180/180 [==============================] - 10s 54ms/step - loss: 1.3298e-04\n",
      "Epoch 18/50\n",
      "180/180 [==============================] - 10s 54ms/step - loss: 1.2981e-04\n",
      "Epoch 19/50\n",
      "180/180 [==============================] - 10s 55ms/step - loss: 1.3181e-04\n",
      "Epoch 20/50\n",
      "180/180 [==============================] - 10s 55ms/step - loss: 1.3269e-04\n",
      "Epoch 21/50\n",
      "180/180 [==============================] - 10s 55ms/step - loss: 1.2901e-04\n",
      "Epoch 22/50\n",
      "180/180 [==============================] - 10s 55ms/step - loss: 1.2812e-04\n",
      "Epoch 23/50\n",
      "180/180 [==============================] - 10s 55ms/step - loss: 1.3010e-04\n",
      "Epoch 24/50\n",
      "180/180 [==============================] - 10s 54ms/step - loss: 1.2707e-04\n",
      "Epoch 25/50\n",
      "180/180 [==============================] - 10s 55ms/step - loss: 1.2871e-04\n",
      "Epoch 26/50\n",
      "180/180 [==============================] - 10s 54ms/step - loss: 1.3062e-04\n",
      "Epoch 27/50\n",
      "180/180 [==============================] - 10s 54ms/step - loss: 1.3028e-04\n",
      "Epoch 28/50\n",
      "180/180 [==============================] - 10s 54ms/step - loss: 1.2826e-04\n",
      "Epoch 29/50\n",
      "180/180 [==============================] - 10s 54ms/step - loss: 1.2752e-04\n",
      "Epoch 30/50\n",
      "180/180 [==============================] - 10s 54ms/step - loss: 1.2840e-04\n",
      "Epoch 31/50\n",
      "180/180 [==============================] - 10s 54ms/step - loss: 1.2980e-04\n",
      "Epoch 32/50\n",
      "180/180 [==============================] - 10s 54ms/step - loss: 1.2726e-04\n",
      "Epoch 33/50\n",
      "180/180 [==============================] - 10s 54ms/step - loss: 1.2631e-04\n",
      "Epoch 34/50\n",
      "180/180 [==============================] - 10s 54ms/step - loss: 1.2725e-04\n",
      "Epoch 35/50\n",
      "180/180 [==============================] - 10s 54ms/step - loss: 1.2582e-04\n",
      "Epoch 36/50\n",
      "180/180 [==============================] - 10s 55ms/step - loss: 1.2743e-04\n",
      "Epoch 37/50\n",
      "180/180 [==============================] - 10s 54ms/step - loss: 1.3607e-04\n",
      "Epoch 38/50\n",
      "180/180 [==============================] - 10s 54ms/step - loss: 1.3068e-04\n",
      "Epoch 39/50\n",
      "180/180 [==============================] - 10s 54ms/step - loss: 1.2857e-04\n",
      "Epoch 40/50\n",
      "180/180 [==============================] - 10s 54ms/step - loss: 1.2748e-04\n",
      "Epoch 41/50\n",
      "180/180 [==============================] - 10s 54ms/step - loss: 1.2922e-04\n",
      "Epoch 42/50\n",
      "180/180 [==============================] - 10s 55ms/step - loss: 1.2637e-04\n",
      "Epoch 43/50\n",
      "180/180 [==============================] - 10s 54ms/step - loss: 1.2593e-04\n",
      "Epoch 44/50\n",
      "180/180 [==============================] - 10s 55ms/step - loss: 1.3044e-04\n",
      "Epoch 45/50\n",
      "180/180 [==============================] - 10s 55ms/step - loss: 1.2764e-04\n",
      "Epoch 45: early stopping\n"
     ]
    }
   ],
   "source": [
    "early_stop = EarlyStopping(monitor='loss', patience=10, verbose=1, restore_best_weights=False)\n",
    "#checkpoint = ModelCheckpoint('best_model.h9', monitor='loss', save_best_only=True, mode='max', verbose=1)\n",
    "#model.save('best_model.h9')\n",
    "history = model.fit(X_scale,y_scale,\n",
    "                    epochs=50, batch_size=128,\n",
    "                    callbacks=[early_stop])"
   ]
  },
  {
   "cell_type": "code",
   "execution_count": 658,
   "id": "34d33257",
   "metadata": {},
   "outputs": [
    {
     "data": {
      "image/png": "[encoded data removed]",
      "text/plain": [
       "<Figure size 640x480 with 1 Axes>"
      ]
     },
     "metadata": {},
     "output_type": "display_data"
    }
   ],
   "source": [
    "plt.plot(history.history['loss'])\n",
    "plt.title('train loss')\n",
    "plt.show()"
   ]
  },
  {
   "cell_type": "markdown",
   "id": "41cc5cef",
   "metadata": {},
   "source": [
    "---\n",
    "## transfer learning"
   ]
  },
  {
   "cell_type": "code",
   "execution_count": 481,
   "id": "906fdd7e",
   "metadata": {},
   "outputs": [],
   "source": [
    "from keras.layers import *"
   ]
  },
  {
   "cell_type": "code",
   "execution_count": null,
   "id": "1acbf93b",
   "metadata": {},
   "outputs": [],
   "source": [
    "X_scale = X_scale.reshape(X_scale.shape[0], X_scale.shape[1], 1)"
   ]
  },
  {
   "cell_type": "code",
   "execution_count": 659,
   "id": "80ffa5b0",
   "metadata": {},
   "outputs": [],
   "source": [
    "backcast_length = 12\n",
    "theta_dim1, theta_dim2 = 64,6\n",
    "forecast_length = 6\n",
    "unit=128"
   ]
  },
  {
   "cell_type": "code",
   "execution_count": 668,
   "id": "4e42ef75",
   "metadata": {},
   "outputs": [
    {
     "name": "stdout",
     "output_type": "stream",
     "text": [
      "Model: \"model_1\"\n",
      "_________________________________________________________________\n",
      " Layer (type)                Output Shape              Param #   \n",
      "=================================================================\n",
      " input_1 (InputLayer)        [(None, 12, 1)]           0         \n",
      "                                                                 \n",
      " model (Functional)          (None, 6)                 104192    \n",
      "                                                                 \n",
      " reshape (Reshape)           (None, 6, 1)              0         \n",
      "                                                                 \n",
      " lstm (LSTM)                 (None, 6, 64)             16896     \n",
      "                                                                 \n",
      " time_distributed (TimeDistr  (None, 6, 1)             65        \n",
      " ibuted)                                                         \n",
      "                                                                 \n",
      "=================================================================\n",
      "Total params: 121,153\n",
      "Trainable params: 121,153\n",
      "Non-trainable params: 0\n",
      "_________________________________________________________________\n"
     ]
    }
   ],
   "source": [
    "\n",
    "K.clear_session()\n",
    "for layer in model.layers:\n",
    "    layer.trainable = True\n",
    "\n",
    "pretrained_layers = model.layers[:-1]\n",
    "pretrained_model = Model(inputs=model.input, outputs=pretrained_layers[-1].output)\n",
    "\n",
    "\n",
    "input1 = Input(shape=(backcast_length,1))\n",
    "pretrained_output = pretrained_model(input1)\n",
    "pretrained_output_reshaped = Reshape((forecast_length,-1))(pretrained_output)\n",
    "\n",
    "# LSTM layer\n",
    "lstm_output = LSTM(64, return_sequences=True)(pretrained_output_reshaped )\n",
    "#concatenated_output = Concatenate()([pretrained_output_reshaped, lstm_output])\n",
    "\n",
    "# Dense layer\n",
    "dense_output = TimeDistributed(Dense(1))(lstm_output )\n",
    "\n",
    "model_combined = Model(inputs=input1, outputs=dense_output)\n",
    "model_combined.compile(loss='mse', optimizer='adam')\n",
    "model_combined.summary()"
   ]
  },
  {
   "cell_type": "code",
   "execution_count": 669,
   "id": "ccda2d6f",
   "metadata": {},
   "outputs": [
    {
     "name": "stdout",
     "output_type": "stream",
     "text": [
      "Epoch 1/50\n",
      "36/36 [==============================] - 5s 16ms/step - loss: 0.0473\n",
      "Epoch 2/50\n",
      "36/36 [==============================] - 1s 16ms/step - loss: 0.0021\n",
      "Epoch 3/50\n",
      "36/36 [==============================] - 1s 16ms/step - loss: 9.8126e-04\n",
      "Epoch 4/50\n",
      "36/36 [==============================] - 1s 16ms/step - loss: 7.8163e-04\n",
      "Epoch 5/50\n",
      "36/36 [==============================] - 1s 16ms/step - loss: 6.5866e-04\n",
      "Epoch 6/50\n",
      "36/36 [==============================] - 1s 16ms/step - loss: 6.3205e-04\n",
      "Epoch 7/50\n",
      "36/36 [==============================] - 1s 16ms/step - loss: 6.6001e-04\n",
      "Epoch 8/50\n",
      "36/36 [==============================] - 1s 16ms/step - loss: 6.1951e-04\n",
      "Epoch 9/50\n",
      "36/36 [==============================] - 1s 16ms/step - loss: 6.0230e-04\n",
      "Epoch 10/50\n",
      "36/36 [==============================] - 1s 16ms/step - loss: 5.8659e-04\n",
      "Epoch 11/50\n",
      "36/36 [==============================] - 1s 16ms/step - loss: 6.3502e-04\n",
      "Epoch 12/50\n",
      "36/36 [==============================] - 1s 16ms/step - loss: 5.2025e-04\n",
      "Epoch 13/50\n",
      "36/36 [==============================] - 1s 16ms/step - loss: 5.0703e-04\n",
      "Epoch 14/50\n",
      "36/36 [==============================] - 1s 16ms/step - loss: 4.7818e-04\n",
      "Epoch 15/50\n",
      "36/36 [==============================] - 1s 16ms/step - loss: 4.2463e-04\n",
      "Epoch 16/50\n",
      "36/36 [==============================] - 1s 16ms/step - loss: 4.6413e-04\n",
      "Epoch 17/50\n",
      "36/36 [==============================] - 1s 16ms/step - loss: 4.6267e-04\n",
      "Epoch 18/50\n",
      "36/36 [==============================] - 1s 16ms/step - loss: 3.9311e-04\n",
      "Epoch 19/50\n",
      "36/36 [==============================] - 1s 16ms/step - loss: 4.0912e-04\n",
      "Epoch 20/50\n",
      "36/36 [==============================] - 1s 16ms/step - loss: 3.5085e-04\n",
      "Epoch 21/50\n",
      "36/36 [==============================] - 1s 16ms/step - loss: 3.0864e-04\n",
      "Epoch 22/50\n",
      "36/36 [==============================] - 1s 16ms/step - loss: 3.2696e-04\n",
      "Epoch 23/50\n",
      "36/36 [==============================] - 1s 16ms/step - loss: 3.5456e-04\n",
      "Epoch 24/50\n",
      "36/36 [==============================] - 1s 16ms/step - loss: 4.1588e-04\n",
      "Epoch 25/50\n",
      "36/36 [==============================] - 1s 16ms/step - loss: 3.0700e-04\n",
      "Epoch 26/50\n",
      "36/36 [==============================] - 1s 16ms/step - loss: 2.9568e-04\n",
      "Epoch 27/50\n",
      "36/36 [==============================] - 1s 16ms/step - loss: 3.1991e-04\n",
      "Epoch 28/50\n",
      "36/36 [==============================] - 1s 16ms/step - loss: 3.1736e-04\n",
      "Epoch 29/50\n",
      "36/36 [==============================] - 1s 16ms/step - loss: 2.7435e-04\n",
      "Epoch 30/50\n",
      "36/36 [==============================] - 1s 16ms/step - loss: 2.6662e-04\n",
      "Epoch 31/50\n",
      "36/36 [==============================] - 1s 16ms/step - loss: 3.4762e-04\n",
      "Epoch 32/50\n",
      "36/36 [==============================] - 1s 16ms/step - loss: 2.6266e-04\n",
      "Epoch 33/50\n",
      "36/36 [==============================] - 1s 16ms/step - loss: 2.4086e-04\n",
      "Epoch 34/50\n",
      "36/36 [==============================] - 1s 16ms/step - loss: 2.1192e-04\n",
      "Epoch 35/50\n",
      "36/36 [==============================] - 1s 16ms/step - loss: 2.2079e-04\n",
      "Epoch 36/50\n",
      "36/36 [==============================] - 1s 16ms/step - loss: 2.8064e-04\n",
      "Epoch 37/50\n",
      "36/36 [==============================] - 1s 16ms/step - loss: 4.0936e-04\n",
      "Epoch 38/50\n",
      "36/36 [==============================] - 1s 16ms/step - loss: 4.2294e-04\n",
      "Epoch 39/50\n",
      "36/36 [==============================] - 1s 16ms/step - loss: 3.7874e-04\n",
      "Epoch 40/50\n",
      "36/36 [==============================] - 1s 16ms/step - loss: 3.2790e-04\n",
      "Epoch 41/50\n",
      "36/36 [==============================] - 1s 16ms/step - loss: 2.8761e-04\n",
      "Epoch 42/50\n",
      "36/36 [==============================] - 1s 16ms/step - loss: 2.7820e-04\n",
      "Epoch 43/50\n",
      "36/36 [==============================] - 1s 16ms/step - loss: 2.1217e-04\n",
      "Epoch 44/50\n",
      "36/36 [==============================] - 1s 16ms/step - loss: 2.0757e-04\n",
      "Epoch 45/50\n",
      "36/36 [==============================] - 1s 16ms/step - loss: 2.1710e-04\n",
      "Epoch 46/50\n",
      "36/36 [==============================] - 1s 16ms/step - loss: 2.8882e-04\n",
      "Epoch 47/50\n",
      "36/36 [==============================] - 1s 16ms/step - loss: 3.4770e-04\n",
      "Epoch 48/50\n",
      "36/36 [==============================] - 1s 16ms/step - loss: 3.2938e-04\n",
      "Epoch 49/50\n",
      "36/36 [==============================] - 1s 16ms/step - loss: 2.2428e-04\n",
      "Epoch 50/50\n",
      "36/36 [==============================] - 1s 16ms/step - loss: 2.7815e-04\n"
     ]
    }
   ],
   "source": [
    "early_stop = EarlyStopping(monitor='loss', patience=10, verbose=1, restore_best_weights=False)\n",
    "history2 = model_combined.fit(target_scale_X_train,target_scale_y_train,\n",
    "                             epochs=50, batch_size=2,\n",
    "                             callbacks=[early_stop])"
   ]
  },
  {
   "cell_type": "code",
   "execution_count": 670,
   "id": "6f09d90a",
   "metadata": {},
   "outputs": [
    {
     "data": {
      "image/png": "[encoded data removed]",
      "text/plain": [
       "<Figure size 640x480 with 1 Axes>"
      ]
     },
     "metadata": {},
     "output_type": "display_data"
    }
   ],
   "source": [
    "plt.plot(history2.history['loss'])\n",
    "plt.title('train loss')\n",
    "plt.show()"
   ]
  },
  {
   "cell_type": "code",
   "execution_count": 671,
   "id": "e01fc96d",
   "metadata": {
    "scrolled": true
   },
   "outputs": [
    {
     "name": "stdout",
     "output_type": "stream",
     "text": [
      "1/1 [==============================] - 1s 645ms/step\n"
     ]
    }
   ],
   "source": [
    "pred =model_combined.predict(target_scale_X_test)"
   ]
  },
  {
   "cell_type": "markdown",
   "id": "e4db7a72",
   "metadata": {},
   "source": [
    "## 비교"
   ]
  },
  {
   "cell_type": "code",
   "execution_count": 485,
   "id": "5cf50995",
   "metadata": {},
   "outputs": [
    {
     "data": {
      "text/plain": [
       "((72, 12), (72, 6))"
      ]
     },
     "execution_count": 485,
     "metadata": {},
     "output_type": "execute_result"
    }
   ],
   "source": [
    "target_scale_X_train.shape,target_scale_y_train.shape"
   ]
  },
  {
   "cell_type": "code",
   "execution_count": 673,
   "id": "5feca4ee",
   "metadata": {},
   "outputs": [
    {
     "name": "stdout",
     "output_type": "stream",
     "text": [
      "Epoch 21: early stopping\n"
     ]
    },
    {
     "data": {
      "text/plain": [
       "<keras.callbacks.History at 0x22b6011f700>"
      ]
     },
     "execution_count": 673,
     "metadata": {},
     "output_type": "execute_result"
    }
   ],
   "source": [
    "K.clear_session()\n",
    "modelnon0 = Sequential() # Sequeatial Model\n",
    "modelnon0.add(LSTM(128, return_sequences=False,input_shape=(12, 1)))# (timestep, feature)\n",
    "modelnon0.add(Dense(6)) # output = 1\n",
    "modelnon0.compile(loss='mse', optimizer='adam')\n",
    "\n",
    "early_stop = EarlyStopping(monitor='loss', patience=10, verbose=1\n",
    "                          )\n",
    "modelnon0.fit(target_scale_X_train,target_scale_y_train, epochs=50,\n",
    "          batch_size=2, verbose=0, callbacks=[early_stop])\n"
   ]
  },
  {
   "cell_type": "code",
   "execution_count": 674,
   "id": "c8979f22",
   "metadata": {},
   "outputs": [
    {
     "name": "stdout",
     "output_type": "stream",
     "text": [
      "1/1 [==============================] - 0s 272ms/step\n"
     ]
    }
   ],
   "source": [
    "pred2=modelnon0.predict(target_scale_X_test)"
   ]
  },
  {
   "cell_type": "code",
   "execution_count": 679,
   "id": "5224e2c0",
   "metadata": {},
   "outputs": [],
   "source": [
    "input_dim, output_dim =  1, 1\n",
    "backcast=inputsize\n",
    "forecast = M4Meta.horizons_map['Yearly']\n",
    "\n",
    "K.clear_session()\n",
    "model2= NBeatsKeras( backcast_length=backcast, forecast_length=forecast, input_dim=input_dim,\n",
    "                   output_dim=output_dim,stack_types=(NBeatsKeras.TREND_BLOCK\n",
    "                                                      ,NBeatsKeras.SEASONALITY_BLOCK)\n",
    "                   ,nb_blocks_per_stack=4, thetas_dim=(2,4),\n",
    "                   share_weights_in_stack=True, hidden_layer_units=128)\n",
    "optimizer = Adam(learning_rate=0.001)\n",
    "model2.compile(loss='mse', optimizer=optimizer )\n",
    "early_stop = EarlyStopping(monitor='loss', patience=10, verbose=0, restore_best_weights=True)\n",
    "#checkpoint = ModelCheckpoint('best_model.h9', monitor='loss', save_best_only=True, mode='max', verbose=1)\n",
    "#model.save('best_model.h9')\n",
    "history = model2.fit(target_scale_X_train,target_scale_y_train, verbose=0,\n",
    "                    epochs=50, batch_size=128,\n",
    "                    callbacks=[early_stop])"
   ]
  },
  {
   "cell_type": "code",
   "execution_count": 680,
   "id": "a128e822",
   "metadata": {},
   "outputs": [
    {
     "name": "stdout",
     "output_type": "stream",
     "text": [
      "1/1 [==============================] - 0s 378ms/step\n"
     ]
    }
   ],
   "source": [
    "pred3 = model2.predict(target_scale_X_test)"
   ]
  },
  {
   "cell_type": "code",
   "execution_count": null,
   "id": "1475455d",
   "metadata": {},
   "outputs": [],
   "source": []
  },
  {
   "cell_type": "code",
   "execution_count": null,
   "id": "dc94ac27",
   "metadata": {},
   "outputs": [],
   "source": []
  },
  {
   "cell_type": "code",
   "execution_count": 681,
   "id": "96ecff5e",
   "metadata": {},
   "outputs": [
    {
     "data": {
      "image/png": "[encoded data removed]",
      "text/plain": [
       "<Figure size 640x480 with 1 Axes>"
      ]
     },
     "metadata": {},
     "output_type": "display_data"
    }
   ],
   "source": [
    "plt.plot(pred.flatten(),label=' pretrain_y') \n",
    "plt.plot(pred3.flatten(),label='nbeat_y') \n",
    "plt.plot(pred2.flatten(),label='lstm_y') \n",
    "plt.plot(target_scale_y_test.flatten(),label='obv_y',color='black')\n",
    "plt.legend()\n",
    "plt.show()"
   ]
  },
  {
   "cell_type": "code",
   "execution_count": 682,
   "id": "8766540a",
   "metadata": {},
   "outputs": [
    {
     "name": "stdout",
     "output_type": "stream",
     "text": [
      "pretrain_mse 0.00021004185671147268\n",
      "lstm___mse 0.0010097006827473087\n",
      "nbeats_mse 0.0004568734381782059\n",
      "pretrain_mape 0.032038924558871494\n",
      "lstm___mape 0.05785390598178753\n",
      "nbeats_mape 0.04191874826178848\n",
      "pretrain_mape 0.00011374103578151407\n",
      "lstm___msle 0.0005456420132313409\n",
      "nbeats_mape 0.00024453495229312844\n"
     ]
    }
   ],
   "source": [
    "from sklearn.metrics import *\n",
    "print('pretrain_mse',mean_squared_error(target_scale_y_test.flatten(),pred.flatten()))\n",
    "print('lstm___mse',mean_squared_error(target_scale_y_test.flatten(),pred2.flatten()))\n",
    "print('nbeats_mse',mean_squared_error(target_scale_y_test.flatten(),pred3.flatten()))\n",
    "print('pretrain_mape',mean_absolute_percentage_error(target_scale_y_test.flatten(),pred.flatten()))\n",
    "print('lstm___mape',mean_absolute_percentage_error(target_scale_y_test.flatten(),pred2.flatten()))\n",
    "print('nbeats_mape',mean_absolute_percentage_error(target_scale_y_test.flatten(),pred3.flatten()))\n",
    "print('pretrain_mape',mean_squared_log_error(target_scale_y_test.flatten(),pred.flatten()))\n",
    "print('lstm___msle',mean_squared_log_error(target_scale_y_test.flatten(),pred2.flatten()))\n",
    "print('nbeats_mape',mean_squared_log_error(target_scale_y_test.flatten(),pred3.flatten()))"
   ]
  }
 ],
 "metadata": {
  "kernelspec": {
   "display_name": "Python 3 (ipykernel)",
   "language": "python",
   "name": "python3"
  },
  "language_info": {
   "codemirror_mode": {
    "name": "ipython",
    "version": 3
   },
   "file_extension": ".py",
   "mimetype": "text/x-python",
   "name": "python",
   "nbconvert_exporter": "python",
   "pygments_lexer": "ipython3",
   "version": "3.10.9"
  }
 },
 "nbformat": 4,
 "nbformat_minor": 5
}
